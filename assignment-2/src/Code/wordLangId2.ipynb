{
 "cells": [
  {
   "cell_type": "code",
   "execution_count": 190,
   "metadata": {},
   "outputs": [],
   "source": [
    "from string import punctuation\n",
    "import re"
   ]
  },
  {
   "cell_type": "code",
   "execution_count": 191,
   "metadata": {},
   "outputs": [],
   "source": [
    "# import data\n",
    "\n",
    "feng = open(\"../Data/Input/LangId.train.English\", 'r', encoding='utf8')\n",
    "ffra = open(\"../Data/Input/LangId.train.French\", 'r', encoding='utf8')\n",
    "fita = open(\"../Data/Input/LangId.train.Italian\", 'r', encoding='utf8')\n",
    "\n",
    "eng_string = feng.read(); eng_string = eng_string.lower();\n",
    "fra_string = ffra.read(); fra_string = fra_string.lower();\n",
    "ita_string = fita.read(); ita_string = ita_string.lower();\n",
    "\n",
    "feng.close();\n",
    "ffra.close();\n",
    "fita.close();"
   ]
  },
  {
   "cell_type": "code",
   "execution_count": 192,
   "metadata": {},
   "outputs": [
    {
     "name": "stdout",
     "output_type": "stream",
     "text": [
      "\n"
     ]
    }
   ],
   "source": [
    "def clean_text(data):\n",
    "    for i in range(len(data)):\n",
    "        if data[i] == '\\'':\n",
    "            continue\n",
    "    data = data.lower()\n",
    "\n",
    "    # punctuation and numbers\n",
    "    for char in punctuation:\n",
    "        if char == '\\'': \n",
    "            continue\n",
    "        data = data.replace(char, ' ')\n",
    "    for num in '1234567890':\n",
    "        data = data.replace(num, '')\n",
    "\n",
    "    # whitespace\n",
    "    data = data.strip()\n",
    "    data = data.replace(\"\\n\", \" \")\n",
    "    data = data.replace(\"   \", \" \")\n",
    "    data = data.replace(\"  \", \" \")\n",
    "    # data = \" \".join(data.split())\n",
    "    # data = data.replace(\" \\'\", \"\\'\")\n",
    "    # data = data.replace(\"\\' \", \"\\'\")\n",
    "    return data\n",
    "\n",
    "                   \n",
    "'''\n",
    "if i is a space and i+1 is a comma/apostrophe/semicolon/, continue and do nothing else\n",
    "if i+1 is . and i+2 is \\n, change . to </s> and \\n to <s> as long as there's a letter after it\n",
    "    if i is </s> and i+1 is \\n, change \\n to <s> as long as there's a letter on the next line\n",
    "if i find \"' - s\", add '\\'',s to the dict and move i forward far enough\n",
    "THEY USED A DASH TO MARK POSSESSIVES\n",
    "\n",
    "i might not actually care about punctuation other than apostrophes\n",
    "    i want english to have a fuckton of 's and s'\n",
    "    i want french to have a fuckton of j' and t'\n",
    "    i want spanish to literally have 0 of them\n",
    "    italian should have l' but so should french\n",
    "'''\n",
    "print(\"\")"
   ]
  },
  {
   "cell_type": "code",
   "execution_count": 193,
   "metadata": {},
   "outputs": [],
   "source": [
    "# make bigrams\n",
    "def make_bigram(data):\n",
    "    bigram_count = {} # make a dictionary that maps bigrams to their counts\n",
    "\n",
    "    data = data.split(\" \")\n",
    "\n",
    "    # MAKING nGRAMS\n",
    "    for i in range(len(data) - 1) :\n",
    "        if (data[i], data[i+1]) in bigram_count:            # if it's already counted, increment\n",
    "            bigram_count[(data[i], data[i + 1])] += 1\n",
    "        else:\n",
    "            bigram_count[(data[i], data[i + 1])] = 1        # if it's new, put it in as 1\n",
    "        \n",
    "    return bigram_count\n",
    "\n",
    "#make unigrams\n",
    "def make_unigram(data):\n",
    "    unigram_count = {} # make a dictionary that maps bigrams to their counts\n",
    "\n",
    "    data = data.split(\" \")\n",
    "\n",
    "    # MAKING nGRAMS\n",
    "    for i in data:\n",
    "        if i in unigram_count:            # if it's already counted, increment\n",
    "            unigram_count[i] += 1\n",
    "        else:\n",
    "            unigram_count[i] = 1          # if it's new, put it in as 1\n",
    "\n",
    "    return unigram_count\n"
   ]
  },
  {
   "cell_type": "code",
   "execution_count": 194,
   "metadata": {},
   "outputs": [
    {
     "name": "stdout",
     "output_type": "stream",
     "text": [
      "\n"
     ]
    }
   ],
   "source": [
    "# turing smooth\n",
    "def turing_smooth(unigrams, bigrams) :\n",
    "    max_possible = len(unigrams)**2\n",
    "    zero_counts  = max_possible - len(bigrams) # the opposite of set overlaps, i forgot the word for that\n",
    "    \n",
    "    b_freq_dict = {}                        # make frequency dictionary of bigrams\n",
    "    for val in bigrams.values() :\n",
    "        if val in b_freq_dict : b_freq_dict[val] += 1\n",
    "        else :                  b_freq_dict[val] = 1\n",
    "                                            \n",
    "    u_freq_dict = {}                        # make unigram freq dict\n",
    "    for val in unigrams.values() :\n",
    "        if val in u_freq_dict : u_freq_dict[val] += 1\n",
    "        else :                  u_freq_dict[val] = 1\n",
    "        \n",
    "    b_freq_dict[0] = zero_counts            # set 0s\n",
    "    u_freq_dict[0] = 1\n",
    "\n",
    "\n",
    "    # go thru to find the first frequency that doesn't have anything in it\n",
    "    bf_keys = list(b_freq_dict.keys())\n",
    "    bf_keys.sort()\n",
    "    uf_keys = list(u_freq_dict.keys())\n",
    "    uf_keys.sort()\n",
    "\n",
    "    b_threshold = None\n",
    "    u_threshold = None\n",
    "\n",
    "    for i,u in enumerate(uf_keys):\n",
    "        # print(\"enum \", i,u)\n",
    "        if i != u:\n",
    "            u_threshold = uf_keys[i-1]\n",
    "            break\n",
    "    for i,b in enumerate(bf_keys):\n",
    "        if i != b:\n",
    "            b_threshold = bf_keys[i-1]\n",
    "            break\n",
    "\n",
    "    return u_freq_dict,u_threshold,b_freq_dict,b_threshold\n",
    "\n",
    "print(\"\")"
   ]
  },
  {
   "cell_type": "code",
   "execution_count": 195,
   "metadata": {},
   "outputs": [],
   "source": [
    "from math import log\n",
    "\n",
    "# takes in the results from turing smooth and gives a line at a time a score.\n",
    "def score_line(line, unigram, uf_dict, u_threshold, bigram, bf_dict, b_threshold):\n",
    "    score = 0\n",
    "    # n = 1\n",
    "    # V = len(unigram)\n",
    "    line = line.split(\" \")\n",
    "    for i in range(len(line) - 1) :\n",
    "        b_count = 0\n",
    "        u_count = 0\n",
    "        if (line[i], line[i+1]) in bigram:\n",
    "            b_count = bigram[(line[i], line[i+1])]\n",
    "            # print(b_count)\n",
    "        if line[i] in unigram:\n",
    "            u_count = unigram[line[i]]\n",
    "            # print(u_count)\n",
    "\n",
    "        # print(type(b_count, type(sum(bigram.values()))))\n",
    "        numer = b_count / int(sum(bigram.values()))\n",
    "        if b_count < b_threshold:\n",
    "            numer = ((b_count + 1) * bf_dict[b_count + 1] / (bf_dict[b_count] * sum(bigram.values())))\n",
    "        \n",
    "        denom = u_count / int(sum(bigram.values()))\n",
    "        if u_count < u_threshold:\n",
    "            denom = ((u_count + 1) * uf_dict[u_count + 1] / (uf_dict[u_count] * sum(unigram.values())))\n",
    "\n",
    "\n",
    "        score += log(numer/denom)\n",
    "    return score   \n",
    "\n"
   ]
  },
  {
   "cell_type": "code",
   "execution_count": 198,
   "metadata": {},
   "outputs": [],
   "source": [
    "# open the file, make/clean all the strings, turing smooth them all, and find the highest score for each line.\n",
    "\n",
    "test_file = open(\"../Data/Validation/LangId.test\", \"r\")\n",
    "\n",
    "test = test_file.read()\n",
    "\n",
    "test = test.split(\"\\n\")\n",
    "\n",
    "test_file.close();\n",
    "\n",
    "eng_bigram = make_bigram(clean_text(eng_string))\n",
    "fra_bigram = make_bigram(clean_text(fra_string))\n",
    "ita_bigram = make_bigram(clean_text(ita_string))\n",
    "eng_unigram = make_unigram(clean_text(eng_string))\n",
    "fra_unigram = make_unigram(clean_text(fra_string))\n",
    "ita_unigram = make_unigram(clean_text(ita_string))\n",
    "\n",
    "eng_uf_dict,eng_u_threshold,eng_bf_dict,eng_b_threshold = turing_smooth(eng_unigram, eng_bigram)\n",
    "fra_uf_dict,fra_u_threshold,fra_bf_dict,fra_b_threshold = turing_smooth(fra_unigram, fra_bigram)\n",
    "ita_uf_dict,ita_u_threshold,ita_bf_dict,ita_b_threshold = turing_smooth(ita_unigram, ita_bigram)\n",
    "\n",
    "output = open(\"../Data/Output/wordLangId2.out\", \"w\")\n",
    "\n",
    "i = 1\n",
    "for line in test :\n",
    "    clean_line = clean_text(line)\n",
    "    eng_score = score_line(clean_line,eng_unigram,eng_uf_dict,eng_u_threshold,eng_bigram,eng_bf_dict,eng_b_threshold)\n",
    "    fra_score = score_line(clean_line,fra_unigram,fra_uf_dict,fra_u_threshold,fra_bigram,fra_bf_dict,fra_b_threshold)\n",
    "    ita_score = score_line(clean_line,ita_unigram,ita_uf_dict,ita_u_threshold,ita_bigram,ita_bf_dict,ita_b_threshold)\n",
    "    # print(\"english:\", eng_score, \"french:\", fra_score, \"italian:\", ita_score)\n",
    "\n",
    "    if eng_score >= fra_score and eng_score >= ita_score :\n",
    "        output.write(str(i) + \" English\")\n",
    "    elif fra_score >= eng_score and fra_score >= ita_score :\n",
    "        output.write(str(i) + \" French\")\n",
    "    else :\n",
    "        output.write(str(i) + \" Italian\")\n",
    "    if (i < 300): output.write(\"\\n\")\n",
    "    i += 1\n",
    "\n",
    "output.close()\n"
   ]
  },
  {
   "cell_type": "code",
   "execution_count": 197,
   "metadata": {},
   "outputs": [
    {
     "name": "stdout",
     "output_type": "stream",
     "text": [
      "300/300 : 100.0%\n"
     ]
    }
   ],
   "source": [
    "# comparison function\n",
    "\n",
    "\n",
    "def comp(out_file, sol_file) :\n",
    "    out = open(out_file, \"r\")\n",
    "    sol = open(sol_file, \"r\")\n",
    "    num = 0\n",
    "    out = out.readlines()\n",
    "    sol = sol.readlines()\n",
    "    for i in range(len(out)) :\n",
    "        if (out[i] == sol[i]): num += 1\n",
    "        else: print(out[i], sol[i])\n",
    "        \n",
    "    return f'{num}/{len(out)} : {round((num/len(out))*100, 2)}%'\n",
    "\n",
    "print(comp(\"../Data/Output/wordLangId2.out\", \"../Data/Validation/labels.sol\"))"
   ]
  },
  {
   "cell_type": "code",
   "execution_count": null,
   "metadata": {},
   "outputs": [],
   "source": []
  }
 ],
 "metadata": {
  "kernelspec": {
   "display_name": "Python 3.9.1 64-bit",
   "language": "python",
   "name": "python3"
  },
  "language_info": {
   "codemirror_mode": {
    "name": "ipython",
    "version": 3
   },
   "file_extension": ".py",
   "mimetype": "text/x-python",
   "name": "python",
   "nbconvert_exporter": "python",
   "pygments_lexer": "ipython3",
   "version": "3.9.1"
  },
  "orig_nbformat": 4,
  "vscode": {
   "interpreter": {
    "hash": "7f87b586ea30b6b9ad4b0d955bff15869eaa35b0eb81b71b90ce6543ed04a2f8"
   }
  }
 },
 "nbformat": 4,
 "nbformat_minor": 2
}
