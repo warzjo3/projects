{
 "cells": [
  {
   "cell_type": "code",
   "execution_count": 21,
   "metadata": {},
   "outputs": [
    {
     "data": {
      "text/plain": [
       "'\\nletter bigram identification\\n- i DONT want to use punctuation (will have to skip it)\\n- i WILL want to count spaces\\n- import them, make them into a string\\n- \\n'"
      ]
     },
     "execution_count": 21,
     "metadata": {},
     "output_type": "execute_result"
    }
   ],
   "source": [
    "'''\n",
    "letter bigram identification\n",
    "- i DONT want to use punctuation (will have to skip it)\n",
    "- i WILL want to count spaces\n",
    "- import them, make them into a string\n",
    "- \n",
    "'''"
   ]
  },
  {
   "cell_type": "code",
   "execution_count": 22,
   "metadata": {},
   "outputs": [],
   "source": [
    "from string import punctuation\n",
    "import re"
   ]
  },
  {
   "cell_type": "code",
   "execution_count": 23,
   "metadata": {},
   "outputs": [],
   "source": [
    "# reading\n",
    "\n",
    "feng = open(\"../Data/Input/LangId.train.English\", 'r', encoding='utf8')\n",
    "ffra = open(\"../Data/Input/LangId.train.French\", 'r', encoding='utf8')\n",
    "fita = open(\"../Data/Input/LangId.train.Italian\", 'r', encoding='utf8')\n",
    "\n",
    "eng_string = feng.read(); eng_string = eng_string.lower();\n",
    "fra_string = ffra.read(); fra_string = fra_string.lower();\n",
    "ita_string = fita.read(); ita_string = ita_string.lower();\n",
    "\n",
    "feng.close();\n",
    "ffra.close();\n",
    "fita.close();\n",
    "\n",
    "# print(ita_string)"
   ]
  },
  {
   "cell_type": "code",
   "execution_count": 24,
   "metadata": {},
   "outputs": [
    {
     "name": "stdout",
     "output_type": "stream",
     "text": [
      "!\"#$%&'()*+,-./:;<=>?@[\\]^_`{|}~\n",
      "found???\n",
      "approval of the minutes of the previous sitting \n",
      "the minutes of yesterday's sitting have been distributed \n",
      "are there any comments \n",
      "mr president on monday i made a point of order about president nicole fontaine's reported comments in the british press regarding her recent visit with her majesty queen elizabeth ii \n",
      "a british labour member of this house mr miller repeated what were purported to be the queen's remarks not once but three times on monday on tuesday and on wednesday \n",
      "he sought to drag the queen into a political controversy and to use her name to score cheap political points \n",
      "mr president it may be that president fontaine was unfamiliar with the british rules of protocol which obtain in such matters but mr miller has no such excuse \n",
      "he knows perfectly well that ours is a non political head of state \n",
      "he knows perfectly well that for nearly fifty years she has scrupulously avoided engaging in controversial political issues \n",
      "he knows perfectly well that she cannot come to this house to set the record straight \n",
      "his behaviour is a disgrace and a scandal \n",
      "mr president i am proud to be british but today i am ashamed to share my nationality with that man \n",
      "has he no shame \n",
      "has he no respect \n",
      "has he no decency or honour at all \n",
      "mr president i wish to use this point of order to speak in my capacity as chairman of the delegation for relations with the countries of central america and mexico \n",
      "as you will be aware elections were held in mexico last sunday \n",
      "yesterday the delegation which i chair met and discussed a report drawn up by our fellow members who had been to mexico to act as observers at these elections on behalf of this parliament \n",
      "mr president i would ask you to see if the president of this parliament could forward our resolution the complete text of which you will receive today to the mexican authorities \n",
      "mr president ladies and gentlemen i want to draw your attention to something really\n",
      "\n"
     ]
    }
   ],
   "source": [
    "print(punctuation)\n",
    "\n",
    "# rule = r' \\n\\.,' # take out everything but apostrophes and single spaces\n",
    "\n",
    "# re.sub()\n",
    "    \n",
    "# cleaning\n",
    "def clean_text(data):\n",
    "    # for i in range(len(data)):\n",
    "    #     if data[i] == '\\'':\n",
    "    #         continue\n",
    "\n",
    "    # lowering\n",
    "    data = data.lower()\n",
    "\n",
    "    # getting rid of punctuation and numbers\n",
    "    for char in punctuation:\n",
    "        if char == '\\'': \n",
    "            continue\n",
    "        data = data.replace(char, ' ')\n",
    "    for num in '1234567890':\n",
    "        data = data.replace(num, '')\n",
    "\n",
    "    # whitespace\n",
    "    data = data.strip()\n",
    "    # data = data.replace(\"\\n\", \" \")\n",
    "    # re.sub(\" +\", \" \", data)\n",
    "    data = data.replace(\"   \", \" \")\n",
    "    data = data.replace(\"  \", \" \")\n",
    "    data = data.replace(\" \\'\", \"\\'\")\n",
    "    data = data.replace(\"\\' \", \"\\'\")\n",
    "\n",
    "    return data\n",
    "\n",
    "\n",
    "\n",
    "                               \n",
    "'''\n",
    "if i is a space and i+1 is a comma/apostrophe/semicolon/, continue and do nothing else\n",
    "if i+1 is . and i+2 is \\n, change . to </s> and \\n to <s> as long as there's a letter after it\n",
    "    if i is </s> and i+1 is \\n, change \\n to <s> as long as there's a letter on the next line\n",
    "if i find \"' - s\", add '\\'',s to the dict and move i forward far enough\n",
    "THEY USED A DASH TO MARK POSSESSIVES\n",
    "\n",
    "i might not actually care about punctuation other than apostrophes\n",
    "    i want english to have a fuckton of 's and s'\n",
    "    i want french to have a fuckton of j' and t'\n",
    "    i want spanish to literally have 0 of them\n",
    "    italian should have l' but so should french\n",
    "'''\n",
    "if \"\\\"\" in punctuation:\n",
    "    print(\"found???\")\n",
    "print(clean_text(eng_string[:2000]))\n",
    "# print(\"\\n\");\n",
    "# # print(clean_text(esp_string[:2000]))\n",
    "# # print(\"\\n\");\n",
    "# print(clean_text(ita_string[:2000]))\n",
    "# print(\"\\n\");\n",
    "# print(clean_text(fra_string[:2000]))\n",
    "print(\"\")"
   ]
  },
  {
   "cell_type": "code",
   "execution_count": 25,
   "metadata": {},
   "outputs": [],
   "source": [
    "'''\n",
    "making bigrams and unigrams together. honestly this shouldn't work\n",
    "because the unigram then won't add the number of the last unigram to \n",
    "it but the results were good\n",
    "'''\n",
    "def make_bigram(data):\n",
    "    bigram_count = {} # make a dictionary that maps bigrams to their counts\n",
    "    unigram_count = {} # make a dictionary that maps bigrams to their counts\n",
    "\n",
    "    # CLEANING:\n",
    "\n",
    "    data = clean_text(data)\n",
    "\n",
    "    # MAKING nGRAMS\n",
    "    for i in range(len(data) - 1):\n",
    "        # skip line breaks\n",
    "        # if (data[i] == '\\n' or data[i+1] == '\\n') : continue\n",
    "        ''' \n",
    "        change the mf to be the sentence end token instead of \\n. \n",
    "        every line is a sentence: \n",
    "            every beginning of a line is <s>\n",
    "            every end of line/period/sentence is </s>\n",
    "        all the punctuation has to be switched out \n",
    "        you ain't even have to do this until way later bruh/\n",
    "        '''\n",
    "\n",
    "        if (data[i], data[i+1]) in bigram_count:            # if it's already counted, increment\n",
    "            bigram_count[(data[i], data[i + 1])] += 1\n",
    "        else:\n",
    "            bigram_count[(data[i], data[i + 1])] = 1        # if it's new, put it in as 1\n",
    "\n",
    "        if data[i] in unigram_count:            # if it's already counted, increment\n",
    "            unigram_count[(data[i])] += 1\n",
    "        else:\n",
    "            unigram_count[(data[i])] = 1        # if it's new, put it in as 1\n",
    "\n",
    "    return (bigram_count, unigram_count)\n",
    "\n",
    "# print(\"english \\n\", make_bigram(eng_string)[0], \"\\n\", make_bigram(eng_string)[1])\n",
    "# print(\"\\n\")\n",
    "# print(\"french  \\n\", make_bigram(fra_string)[0], \"\\n\", make_bigram(fra_string)[1])\n",
    "# print(\"\\n\")\n",
    "# print(\"italian \\n\", make_bigram(ita_string)[0], \"\\n\", make_bigram(ita_string)[1])\n",
    "# print(\"\\n\")\n",
    "# print(\"spanish \", make_bigram(esp_string))\n"
   ]
  },
  {
   "cell_type": "code",
   "execution_count": 26,
   "metadata": {},
   "outputs": [],
   "source": [
    "from math import log\n",
    "def score_line(line, bigram, unigram):\n",
    "    '''\n",
    "    scores a line (could change this to word) at a time \n",
    "    data should be the input data\n",
    "    bigram and unigram come from training\n",
    "    '''\n",
    "    score = 0\n",
    "    n = 1\n",
    "    V = len(unigram)\n",
    "    for i in range(len(line) - 1) :\n",
    "        denom = V \n",
    "        numer = n\n",
    "        if line[i] in unigram.keys():\n",
    "            denom += unigram[line[i]]\n",
    "        if (line[i], line[i+1]) in bigram.keys():\n",
    "            numer += bigram[(line[i], line[i+1])]\n",
    "        score += log(numer/denom)\n",
    "    return score    \n",
    "        \n",
    "    "
   ]
  },
  {
   "cell_type": "code",
   "execution_count": 27,
   "metadata": {},
   "outputs": [],
   "source": [
    "ita_grams = make_bigram(ita_string)\n",
    "eng_grams = make_bigram(eng_string)\n",
    "fra_grams = make_bigram(fra_string)\n",
    "\n",
    "def score(data) :\n",
    "    ans = ''\n",
    "    # scores = {\"English\" : 0, \"Italian\" : 0, \"French\" : 0}\n",
    "    data = data.split(\"\\n\")\n",
    "    for i in range(len(data)) :\n",
    "        '''\n",
    "        compare against all 3 bigrams and unigrams, add the highest score to the string\n",
    "        '''\n",
    "        line = data[i]\n",
    "        ans += f'{i + 1} '\n",
    "        \n",
    "        scores = {}\n",
    "\n",
    "        ita_score = score_line(line, ita_grams[0], ita_grams[1])\n",
    "        scores[ita_score] = \"Italian\"\n",
    "\n",
    "        eng_score = score_line(line, eng_grams[0], eng_grams[1])\n",
    "        scores[eng_score] = \"English\"\n",
    "\n",
    "        fra_score = score_line(line, fra_grams[0], fra_grams[1])\n",
    "        scores[fra_score] = \"French\"\n",
    "        \n",
    "        ans += scores[max(scores.keys())]\n",
    "\n",
    "        if i < 299: ans += \"\\n\"\n",
    "        \n",
    "    return ans\n"
   ]
  },
  {
   "cell_type": "code",
   "execution_count": 28,
   "metadata": {},
   "outputs": [],
   "source": [
    "# runs the whole thing\n",
    "def main(test_file) :\n",
    "    test = open(test_file, \"r\")\n",
    "    test_str = test.read()\n",
    "    test.close()\n",
    "    ans = score(clean_text(test_str))\n",
    "    out = open(\"../Data/Output/letterLangId.out\", \"w\")\n",
    "    out.write(ans)\n",
    "    out.close()"
   ]
  },
  {
   "cell_type": "code",
   "execution_count": 29,
   "metadata": {},
   "outputs": [],
   "source": [
    "main(\"../Data/Validation/LangId.test\")"
   ]
  },
  {
   "cell_type": "code",
   "execution_count": 30,
   "metadata": {},
   "outputs": [
    {
     "name": "stdout",
     "output_type": "stream",
     "text": [
      "99.0\n"
     ]
    }
   ],
   "source": [
    "# compare output and expected\n",
    "def comp(out_file, sol_file) :\n",
    "    out = open(out_file, \"r\")\n",
    "    sol = open(sol_file, \"r\")\n",
    "    num = 0\n",
    "    out = out.readlines()\n",
    "    sol = sol.readlines()\n",
    "    for i in range(len(out)) :\n",
    "        if (out[i] == sol[i]): num += 1\n",
    "        \n",
    "    return (num/len(out))*100\n",
    "\n",
    "print(comp(\"../Data/Output/letterLangId.out\", \"../Data/Validation/labels.sol\"))"
   ]
  },
  {
   "cell_type": "code",
   "execution_count": null,
   "metadata": {},
   "outputs": [],
   "source": []
  }
 ],
 "metadata": {
  "kernelspec": {
   "display_name": "Python 3.8.10 64-bit (microsoft store)",
   "language": "python",
   "name": "python3"
  },
  "language_info": {
   "codemirror_mode": {
    "name": "ipython",
    "version": 3
   },
   "file_extension": ".py",
   "mimetype": "text/x-python",
   "name": "python",
   "nbconvert_exporter": "python",
   "pygments_lexer": "ipython3",
   "version": "3.8.10"
  },
  "orig_nbformat": 4,
  "vscode": {
   "interpreter": {
    "hash": "e29043e8b6907cb28dfe438986b68768de2ad828ed43f3d926895cc2132cc1ad"
   }
  }
 },
 "nbformat": 4,
 "nbformat_minor": 2
}
